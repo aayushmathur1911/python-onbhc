{
 "cells": [
  {
   "cell_type": "code",
   "execution_count": 1,
   "id": "7a7ae034-5744-4645-9c16-6d50cb406df4",
   "metadata": {},
   "outputs": [],
   "source": [
    "from sqlalchemy import create_engine\n",
    "import pandas as pd"
   ]
  },
  {
   "cell_type": "code",
   "execution_count": 13,
   "id": "2a40f70d-0166-4c8e-a796-c1e4c227aada",
   "metadata": {},
   "outputs": [],
   "source": [
    "# crediantials-\n",
    "hostname=\"localhost\"\n",
    "uname=\"root\"\n",
    "pwd=\"agmathur\"\n",
    "dbname=\"ramaninfotech1\"\n",
    "tablename=\"students46\""
   ]
  },
  {
   "cell_type": "code",
   "execution_count": 14,
   "id": "0347b015-c45c-481b-be3f-6bf6255f8061",
   "metadata": {},
   "outputs": [
    {
     "data": {
      "text/html": [
       "<div>\n",
       "<style scoped>\n",
       "    .dataframe tbody tr th:only-of-type {\n",
       "        vertical-align: middle;\n",
       "    }\n",
       "\n",
       "    .dataframe tbody tr th {\n",
       "        vertical-align: top;\n",
       "    }\n",
       "\n",
       "    .dataframe thead th {\n",
       "        text-align: right;\n",
       "    }\n",
       "</style>\n",
       "<table border=\"1\" class=\"dataframe\">\n",
       "  <thead>\n",
       "    <tr style=\"text-align: right;\">\n",
       "      <th></th>\n",
       "      <th>stud_id</th>\n",
       "      <th>stud_name</th>\n",
       "      <th>stud_address</th>\n",
       "      <th>stud_age</th>\n",
       "    </tr>\n",
       "  </thead>\n",
       "  <tbody>\n",
       "    <tr>\n",
       "      <th>0</th>\n",
       "      <td>4</td>\n",
       "      <td>aayush</td>\n",
       "      <td>jaipur</td>\n",
       "      <td>21</td>\n",
       "    </tr>\n",
       "    <tr>\n",
       "      <th>1</th>\n",
       "      <td>2</td>\n",
       "      <td>gaurav</td>\n",
       "      <td>ajmer</td>\n",
       "      <td>22</td>\n",
       "    </tr>\n",
       "    <tr>\n",
       "      <th>2</th>\n",
       "      <td>3</td>\n",
       "      <td>ajay</td>\n",
       "      <td>jaipur</td>\n",
       "      <td>21</td>\n",
       "    </tr>\n",
       "  </tbody>\n",
       "</table>\n",
       "</div>"
      ],
      "text/plain": [
       "   stud_id stud_name stud_address  stud_age\n",
       "0        4    aayush       jaipur        21\n",
       "1        2    gaurav        ajmer        22\n",
       "2        3      ajay       jaipur        21"
      ]
     },
     "execution_count": 14,
     "metadata": {},
     "output_type": "execute_result"
    }
   ],
   "source": [
    "engine=create_engine(\"mysql+pymysql://{user}:{pw}@{host}/{db}\".format(user=uname,host=hostname,pw=pwd,db=dbname))\n",
    "df=pd.read_sql(\"students46\",engine)\n",
    "df"
   ]
  },
  {
   "cell_type": "code",
   "execution_count": null,
   "id": "cb9b87e9-6869-414f-9af5-d7f8f3591c7d",
   "metadata": {},
   "outputs": [],
   "source": []
  }
 ],
 "metadata": {
  "kernelspec": {
   "display_name": "Python 3 (ipykernel)",
   "language": "python",
   "name": "python3"
  },
  "language_info": {
   "codemirror_mode": {
    "name": "ipython",
    "version": 3
   },
   "file_extension": ".py",
   "mimetype": "text/x-python",
   "name": "python",
   "nbconvert_exporter": "python",
   "pygments_lexer": "ipython3",
   "version": "3.11.7"
  }
 },
 "nbformat": 4,
 "nbformat_minor": 5
}
